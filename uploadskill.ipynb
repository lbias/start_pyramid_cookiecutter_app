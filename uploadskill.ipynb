{
  "cells": [
    {
      "cell_type": "markdown",
      "source": [
        "# Start a Pyramid Cookiecutter Web App\n",
        "1. install cookiecutter __package__ and dependencies\n",
        "2. use __cookiecutter__ to setup starter site\n",
        "3. create a virtual environment (optional)\n",
        "4. register web app as a package\n",
        "5. serve it up\n",
        "6. add features\n",
        "7. loop from step 5"
      ],
      "metadata": {
        "collapsed": false,
        "outputHidden": false,
        "inputHidden": false
      }
    },
    {
      "cell_type": "markdown",
      "source": [
        "In[] : __`pip3 install cookiecutter -U --user`__\n",
        "![output](http://uploadskill.s3.amazonaws.com/6.png)"
      ],
      "metadata": {}
    },
    {
      "cell_type": "markdown",
      "source": [
        "In[] : __`mkdir project_area`__\n",
        "\n",
        "In[] : __`cd project_area`__\n",
        "![output](http://uploadskill.s3.amazonaws.com/7.png)"
      ],
      "metadata": {}
    },
    {
      "cell_type": "markdown",
      "source": [
        "In[] : __`cookiecutter https://github.com/Pylons/pyramid-cookiecutter-starter`__\n",
        "![output](http://uploadskill.s3.amazonaws.com/8.png)\n",
        "\n",
        "![output](http://uploadskill.s3.amazonaws.com/9.png)\n",
        "\n![output](http://uploadskill.s3.amazonaws.com/10.png)"
      ],
      "metadata": {}
    },
    {
      "cell_type": "markdown",
      "source": [
        "input project_name\n",
        "![output](http://uploadskill.s3.amazonaws.com/11.png)"
      ],
      "metadata": {}
    },
    {
      "cell_type": "markdown",
      "source": [
        "select template_language\n",
        "![output](http://uploadskill.s3.amazonaws.com/12.png)"
      ],
      "metadata": {}
    },
    {
      "cell_type": "markdown",
      "source": [
        "project tree view (optional)\n",
        "![ouput](http://uploadskill.s3.amazonaws.com/13.png)"
      ],
      "metadata": {}
    },
    {
      "cell_type": "markdown",
      "source": [
        "create virtual env, input: __`python3 -m venv --copies .env`__\n",
        "![output](http://uploadskill.s3.amazonaws.com/14.png)"
      ],
      "metadata": {}
    },
    {
      "cell_type": "markdown",
      "source": [
        "activate virtual env, input: __` . .env/bin/activate`__\n",
        "![ouput](http://uploadskill.s3.amazonaws.com/15.png)"
      ],
      "metadata": {}
    },
    {
      "cell_type": "markdown",
      "source": [
        "update setuptools, input: __`pip install setuptools -U`__\n",
        "![ouput](http://uploadskill.s3.amazonaws.com/16.png)"
      ],
      "metadata": {}
    },
    {
      "cell_type": "markdown",
      "source": [
        "check project files, install project dependencies, input: __`python setup.py develop`__\n",
        "![output](http://uploadskill.s3.amazonaws.com/17.png)\n",
        "\n",
        "![output](http://uploadskill.s3.amazonaws.com/18.png)\n",
        "\n![output](http://uploadskill.s3.amazonaws.com/19.png)"
      ],
      "metadata": {}
    },
    {
      "cell_type": "markdown",
      "source": [
        "run the application using pserver command, input: __`pserve development.ini`__\n",
        "\n![ouput](http://uploadskill.s3.amazonaws.com/20.png)"
      ],
      "metadata": {}
    },
    {
      "cell_type": "markdown",
      "source": [
        "visit __http://localhost:6543/__ in your browser to view the application\n",
        "![output](http://uploadskill.s3.amazonaws.com/21.png)"
      ],
      "metadata": {}
    },
    {
      "cell_type": "markdown",
      "source": [],
      "metadata": {}
    }
  ],
  "metadata": {
    "kernelspec": {
      "name": "python3",
      "language": "python",
      "display_name": "Python 3"
    },
    "kernel_info": {
      "name": "python3"
    },
    "language_info": {
      "name": "python",
      "version": "3.6.3",
      "mimetype": "text/x-python",
      "codemirror_mode": {
        "name": "ipython",
        "version": 3
      },
      "pygments_lexer": "ipython3",
      "nbconvert_exporter": "python",
      "file_extension": ".py"
    },
    "nteract": {
      "version": "0.3.4"
    }
  },
  "nbformat": 4,
  "nbformat_minor": 4
}